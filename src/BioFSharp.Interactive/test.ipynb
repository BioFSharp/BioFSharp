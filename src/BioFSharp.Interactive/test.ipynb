{
 "cells": [
  {
   "cell_type": "markdown",
   "metadata": {
    "dotnet_interactive": {
     "language": "fsharp"
    }
   },
   "source": [
    "To reproduce the package, run `./Repack.ps1` in powershell. It will clean your cache in `~/.nuget/packages` and pack the library to `BioFSharp/pkg` folder, which you should specify below (absolute paths only) in `#i` line.\n",
    "\n",
    "The version of the package is always `0.0.0-dev`."
   ]
  },
  {
   "cell_type": "code",
   "execution_count": null,
   "metadata": {
    "dotnet_interactive": {
     "language": "fsharp"
    }
   },
   "outputs": [
    {
     "data": {
      "text/html": [
       "<div><div><strong>Restore sources</strong><ul><li><span> C:/Users/schne/source/repos/CSBiology/BioFSharp/pkg</span></li></ul></div><div></div><div><strong>Installed Packages</strong><ul><li><span>BioFSharp, 0.0.0-dev</span></li><li><span>BioFSharp.Interactive, 0.0.0-dev</span></li></ul></div></div>"
      ]
     },
     "metadata": {},
     "output_type": "display_data"
    },
    {
     "data": {
      "text/markdown": [
       "Loading extensions from `BioFSharp.Interactive.dll`"
      ]
     },
     "metadata": {},
     "output_type": "display_data"
    }
   ],
   "source": [
    "// be advised, that you always should set absolute paths for local nuget packages - change this to reflect your own setup\n",
    "#i \"nuget: C:/Users/schne/source/repos/CSBiology/BioFSharp/pkg\"\n",
    "#r \"nuget: BioFSharp, 0.0.0-dev\"\n",
    "#r \"nuget: BioFSharp.Interactive, 0.0.0-dev\""
   ]
  },
  {
   "cell_type": "code",
   "execution_count": null,
   "metadata": {
    "dotnet_interactive": {
     "language": "fsharp"
    }
   },
   "outputs": [
    {
     "data": {
      "text/html": [
       "A"
      ]
     },
     "metadata": {},
     "output_type": "display_data"
    }
   ],
   "source": [
    "open BioFSharp\n",
    "\n",
    "AminoAcids.AminoAcid.Ala"
   ]
  },
  {
   "cell_type": "code",
   "execution_count": null,
   "metadata": {
    "dotnet_interactive": {
     "language": "fsharp"
    }
   },
   "outputs": [
    {
     "data": {
      "text/html": [
       "<pre>\r\n",
       "         1  SOOOOSEEEE ESOOOOSEEE EESOOOOSEE EEESOOOOSE EEEESOOOOS EEEEESOOOO\r\n",
       "        61  SEEEEESOOO OSEEEEESOO OOSEEEEESO OOOSEEEEES OOOOSEEEEE SOOOOSEEEE\r\n",
       "       121  ESOOOOSEEE EESOOOOSEE EEESOOOOSE EEEESOOOOS EEEEESOOOO SEEEEESOOO\r\n",
       "       181  OSEEEEESOO OOSEEEEESO OOOSEEEEES OOOOSEEEEE SOOOOSEEEE ESOOOOSEEE\r\n",
       "       241  EESOOOOSEE EEESOOOOSE EEEESOOOOS EEEEE\r\n",
       "</pre>"
      ]
     },
     "metadata": {},
     "output_type": "display_data"
    }
   ],
   "source": [
    "BioArray.ofAminoAcidString \"SOOOOSEEEEESOOOOSEEEEESOOOOSEEEEESOOOOSEEEEESOOOOSEEEEESOOOOSEEEEESOOOOSEEEEESOOOOSEEEEESOOOOSEEEEESOOOOSEEEEESOOOOSEEEEESOOOOSEEEEESOOOOSEEEEESOOOOSEEEEESOOOOSEEEEESOOOOSEEEEESOOOOSEEEEESOOOOSEEEEESOOOOSEEEEESOOOOSEEEEESOOOOSEEEEESOOOOSEEEEESOOOOSEEEEESOOOOSEEEEESOOOOSEEEEE\""
   ]
  }
 ],
 "metadata": {
  "kernelspec": {
   "display_name": ".NET (F#)",
   "language": "F#",
   "name": ".net-fsharp"
  },
  "language_info": {
   "name": "F#"
  }
 },
 "nbformat": 4,
 "nbformat_minor": 2
}
