{
 "cells": [
  {
   "cell_type": "code",
   "execution_count": null,
   "metadata": {
    "dotnet_interactive": {
     "language": "fsharp"
    },
    "polyglot_notebook": {
     "kernelName": "fsharp"
    }
   },
   "outputs": [],
   "source": [
    "(*** hide ***)\n",
    "\n",
    "(*** condition: prepare ***)\n",
    "#r \"nuget: Plotly.NET, 4.2.0\"\n",
    "#r \"nuget: FSharpAux, 2.0.0\"\n",
    "#r \"nuget: FSharpAux.IO, 2.0.0\"\n",
    "#r \"nuget: FSharp.Stats, 0.4.11\"\n",
    "#r \"../src/BioFSharp/bin/Release/netstandard2.0/BioFSharp.dll\"\n",
    "#r \"../src/BioFSharp.IO/bin/Release/netstandard2.0/BioFSharp.IO.dll\"\n",
    "#r \"../src/BioFSharp.BioContainers/bin/Release/netstandard2.0/BioFSharp.BioContainers.dll\"\n",
    "#r \"../src/BioFSharp.ML/bin/Release/netstandard2.0/BioFSharp.ML.dll\"\n",
    "#r \"../src/BioFSharp.Stats/bin/Release/netstandard2.0/BioFSharp.Stats.dll\""
   ]
  },
  {
   "cell_type": "markdown",
   "metadata": {},
   "source": [
    "# BioFSharp\n",
    "\n",
    "BioFSharp aims to be a user-friendly functional library for bioinformatics written in F#. It contains the basic data structures for common biological objects like amino acids and nucleotides based on chemical formulas and chemical elements.\n",
    "\n",
    "BioFSharp facilitates working with sequences in a strongly typed way and is designed to work well with F# Interactive.\n",
    "It provides a variety of parsers for many biological file formats and a variety of algorithms suited for bioinformatic workflows.\n",
    "\n",
    "The core datamodel implements in ascending hierarchical order:\n",
    "\n",
    "- Chemical elements and [formulas](https://csbiology.github.io/BioFSharp/Formula.html) which are a collection of elements\n",
    "- Amino Acids, Nucleotides and Modifications, which all implement the common [IBioItem interface](https://csbiology.github.io/BioFSharp/BioItem.html#Basics)\n",
    "- [BioCollections](https://csbiology.github.io/BioFSharp/BioCollections.html) (BioItem,BioList,BioSeq) as representation of biological sequences\n",
    "\n",
    "</br>\n",
    "\n",
    "![Data model](https://i.imgur.com/LXBvhmi.png)\n",
    "\n",
    "</br>\n",
    "\n",
    "---\n",
    "\n",
    "## Installation\n",
    "\n",
    "### For applications and libraries\n",
    "\n",
    "You can find all available package versions on [nuget](https://www.nuget.org/packages?q=BioFSharp).\n",
    "\n",
    " - dotnet CLI\n",
    "\n",
    "    ```shell\n",
    "    dotnet add package BioFSharp\n",
    "    ```\n",
    "\n",
    " - paket CLI\n",
    "\n",
    "    ```shell\n",
    "    paket add BioFSharp\n",
    "    ```\n",
    "\n",
    " - package manager\n",
    "\n",
    "    ```shell\n",
    "    Install-Package BioFSharp -Version {{fsdocs-package-version}}\n",
    "    ```\n",
    "\n",
    "    Or add the package reference directly to your `.*proj` file:\n",
    "\n",
    "    ```\n",
    "    <PackageReference Include=\"BioFSharp\" Version=\"{{fsdocs-package-version}}\" />\n",
    "    ```\n",
    "\n",
    "### For scripting and interactive notebooks\n",
    "You can include the package via an inline package reference:\n",
    "\n",
    "```\n",
    "#r \"nuget: BioFSharp\"\n",
    "```\n",
    "\n",
    "---\n",
    "\n",
    "## Example\n",
    "\n",
    "The following example shows how easy it is to start working with sequences:\n",
    "\n",
    "Create a peptide sequence:"
   ]
  },
  {
   "cell_type": "code",
   "execution_count": 2,
   "metadata": {
    "dotnet_interactive": {
     "language": "fsharp"
    },
    "polyglot_notebook": {
     "kernelName": "fsharp"
    }
   },
   "outputs": [
    {
     "data": {
      "text/html": [
       "<pre>\r\n",
       "         1  PEPTIDE\r\n",
       "</pre>"
      ]
     },
     "metadata": {},
     "output_type": "display_data"
    }
   ],
   "source": [
    "open BioFSharp\n",
    "\n",
    "\"PEPTIDE\" |> BioArray.ofAminoAcidString"
   ]
  },
  {
   "cell_type": "markdown",
   "metadata": {},
   "source": [
    "Create a nucleotide sequence:"
   ]
  },
  {
   "cell_type": "code",
   "execution_count": 3,
   "metadata": {
    "dotnet_interactive": {
     "language": "fsharp"
    },
    "polyglot_notebook": {
     "kernelName": "fsharp"
    }
   },
   "outputs": [
    {
     "data": {
      "text/html": [
       "<pre>\r\n",
       "         1  ATGC\r\n",
       "</pre>"
      ]
     },
     "metadata": {},
     "output_type": "display_data"
    }
   ],
   "source": [
    "\"ATGC\" |> BioArray.ofNucleotideString"
   ]
  },
  {
   "cell_type": "markdown",
   "metadata": {},
   "source": [
    "BioFSharp comes equipped with a broad range of features and functions to map amino acids and nucleotides. "
   ]
  },
  {
   "cell_type": "code",
   "execution_count": 4,
   "metadata": {
    "dotnet_interactive": {
     "language": "fsharp"
    },
    "polyglot_notebook": {
     "kernelName": "fsharp"
    }
   },
   "outputs": [
    {
     "data": {
      "text/html": [
       "<details open=\"open\" class=\"dni-treeview\"><summary><span class=\"dni-code-hint\"><code>C</code></span></summary><div><table><thead><tr></tr></thead><tbody></tbody></table></div></details><style>\r\n",
       ".dni-code-hint {\r\n",
       "    font-style: italic;\r\n",
       "    overflow: hidden;\r\n",
       "    white-space: nowrap;\r\n",
       "}\r\n",
       ".dni-treeview {\r\n",
       "    white-space: nowrap;\r\n",
       "}\r\n",
       ".dni-treeview td {\r\n",
       "    vertical-align: top;\r\n",
       "    text-align: start;\r\n",
       "}\r\n",
       "details.dni-treeview {\r\n",
       "    padding-left: 1em;\r\n",
       "}\r\n",
       "table td {\r\n",
       "    text-align: start;\r\n",
       "}\r\n",
       "table tr { \r\n",
       "    vertical-align: top; \r\n",
       "    margin: 0em 0px;\r\n",
       "}\r\n",
       "table tr td pre \r\n",
       "{ \r\n",
       "    vertical-align: top !important; \r\n",
       "    margin: 0em 0px !important;\r\n",
       "} \r\n",
       "table th {\r\n",
       "    text-align: start;\r\n",
       "}\r\n",
       "</style>"
      ]
     },
     "metadata": {},
     "output_type": "display_data"
    }
   ],
   "source": [
    "// Returns the corresponding nucleotide of the complementary strand\n",
    "Nucleotides.G |> Nucleotides.complement"
   ]
  },
  {
   "cell_type": "code",
   "execution_count": 5,
   "metadata": {
    "dotnet_interactive": {
     "language": "fsharp"
    },
    "polyglot_notebook": {
     "kernelName": "fsharp"
    }
   },
   "outputs": [
    {
     "data": {
      "text/html": [
       "<div class=\"dni-plaintext\"><pre>156.10111102304</pre></div><style>\r\n",
       ".dni-code-hint {\r\n",
       "    font-style: italic;\r\n",
       "    overflow: hidden;\r\n",
       "    white-space: nowrap;\r\n",
       "}\r\n",
       ".dni-treeview {\r\n",
       "    white-space: nowrap;\r\n",
       "}\r\n",
       ".dni-treeview td {\r\n",
       "    vertical-align: top;\r\n",
       "    text-align: start;\r\n",
       "}\r\n",
       "details.dni-treeview {\r\n",
       "    padding-left: 1em;\r\n",
       "}\r\n",
       "table td {\r\n",
       "    text-align: start;\r\n",
       "}\r\n",
       "table tr { \r\n",
       "    vertical-align: top; \r\n",
       "    margin: 0em 0px;\r\n",
       "}\r\n",
       "table tr td pre \r\n",
       "{ \r\n",
       "    vertical-align: top !important; \r\n",
       "    margin: 0em 0px !important;\r\n",
       "} \r\n",
       "table th {\r\n",
       "    text-align: start;\r\n",
       "}\r\n",
       "</style>"
      ]
     },
     "metadata": {},
     "output_type": "display_data"
    }
   ],
   "source": [
    "// Returns the monoisotopic mass of Arginine (minus H2O)\n",
    "AminoAcids.Arg |> AminoAcids.monoisoMass"
   ]
  },
  {
   "cell_type": "markdown",
   "metadata": {},
   "source": [
    "The various file readers in BioFSharp help to easily retrieve information and write biology-associated file formats like for example FastA:"
   ]
  },
  {
   "cell_type": "code",
   "execution_count": 8,
   "metadata": {
    "dotnet_interactive": {
     "language": "fsharp"
    },
    "polyglot_notebook": {
     "kernelName": "fsharp"
    }
   },
   "outputs": [],
   "source": [
    "open BioFSharp.IO\n",
    "\n",
    "let filepathFastaA = (__SOURCE_DIRECTORY__ + \"/data/Chlamy_Cp.fastA\")\n",
    "//reads from file to an array of FastaItems.\n",
    "\n",
    "let fastaItems = FastA.fromFile BioArray.ofAminoAcidString filepathFastaA"
   ]
  },
  {
   "cell_type": "markdown",
   "metadata": {},
   "source": [
    "This will return a sequence of `FastaItem`s, where you can directly start working with the individual sequences represented as a `BioArray` of amino acids. "
   ]
  },
  {
   "cell_type": "code",
   "execution_count": 9,
   "metadata": {
    "dotnet_interactive": {
     "language": "fsharp"
    },
    "polyglot_notebook": {
     "kernelName": "fsharp"
    }
   },
   "outputs": [
    {
     "data": {
      "text/html": [
       "<details open=\"open\" class=\"dni-treeview\"><summary><span class=\"dni-code-hint\"><code>{ Header = &quot;sp|P19528| cytochrome b6/f complex subunit 4 GN=petD PE=petD.p01&quot;\\n  Sequence =\\n   [|Met; Ser; Val; Thr; Lys; Lys; Pro; Asp; Leu; Ser; Asp; Pro; Val; Leu; Lys;\\n     Ala; Lys; Leu; Ala; Lys; Gly; Met; Gly; His; Asn; Thr; Tyr; Gly; Glu; Pro;\\n     Ala; Trp; Pro; Asn; Asp; Leu; Leu; Tyr; ...</code></span></summary><div><table><thead><tr></tr></thead><tbody><tr><td>Header</td><td><div class=\"dni-plaintext\"><pre>sp|P19528| cytochrome b6/f complex subunit 4 GN=petD PE=petD.p01</pre></div></td></tr><tr><td>Sequence</td><td><pre>\r\n",
       "         1  MSVTKKPDLS DPVLKAKLAK GMGHNTYGEP AWPNDLLYMF PVVILGTFAC VIGLSVLDPA\r\n",
       "        61  AMGEPANPFA TPLEILPEWY FYPVFQILRV VPNKLLGVLL MAAVPAGLIT VPFIESINKF\r\n",
       "       121  QNPYRRPIAT ILFLLGTLVA VWLGIGSTFP IDISLTLGLF *\r\n",
       "</pre></td></tr></tbody></table></div></details><style>\r\n",
       ".dni-code-hint {\r\n",
       "    font-style: italic;\r\n",
       "    overflow: hidden;\r\n",
       "    white-space: nowrap;\r\n",
       "}\r\n",
       ".dni-treeview {\r\n",
       "    white-space: nowrap;\r\n",
       "}\r\n",
       ".dni-treeview td {\r\n",
       "    vertical-align: top;\r\n",
       "    text-align: start;\r\n",
       "}\r\n",
       "details.dni-treeview {\r\n",
       "    padding-left: 1em;\r\n",
       "}\r\n",
       "table td {\r\n",
       "    text-align: start;\r\n",
       "}\r\n",
       "table tr { \r\n",
       "    vertical-align: top; \r\n",
       "    margin: 0em 0px;\r\n",
       "}\r\n",
       "table tr td pre \r\n",
       "{ \r\n",
       "    vertical-align: top !important; \r\n",
       "    margin: 0em 0px !important;\r\n",
       "} \r\n",
       "table th {\r\n",
       "    text-align: start;\r\n",
       "}\r\n",
       "</style>"
      ]
     },
     "metadata": {},
     "output_type": "display_data"
    }
   ],
   "source": [
    "fastaItems |> Seq.item 0"
   ]
  },
  {
   "cell_type": "markdown",
   "metadata": {},
   "source": [
    "For more detailed examples continue to explore the BioFSharp documentation.\n",
    "In the near future we will start to provide a cookbook like tutorial in the [CSBlog](https://csbiology.github.io/CSBlog/).\n",
    "\n",
    "## Contributing and copyright\n",
    "\n",
    "The project is hosted on [GitHub][gh] where you can [report issues][issues], fork \n",
    "the project and submit pull requests. If you're adding a new public API, please also \n",
    "consider adding [samples][docs] that can be turned into a documentation.\n",
    "\n",
    "The library is available under the OSI-approved MIT license. For more information see the \n",
    "[License file][license] in the GitHub repository. \n",
    "\n",
    "  [docs]: https://github.com/CSBiology/BioFSharp/tree/developer/docs\n",
    "  [gh]: https://github.com/CSBiology/BioFSharp\n",
    "  [issues]: https://github.com/CSBiology/BioFSharp/issues\n",
    "  [license]: https://github.com/CSBiology/BioFSharp/blob/developer/LICENSE"
   ]
  }
 ],
 "metadata": {
  "kernelspec": {
   "display_name": ".NET (C#)",
   "language": "C#",
   "name": ".net-csharp"
  },
  "language_info": {
   "name": "polyglot-notebook"
  },
  "polyglot_notebook": {
   "kernelInfo": {
    "defaultKernelName": "csharp",
    "items": [
     {
      "aliases": [],
      "name": "csharp"
     },
     {
      "aliases": [],
      "languageName": "fsharp",
      "name": "fsharp"
     }
    ]
   }
  }
 },
 "nbformat": 4,
 "nbformat_minor": 2
}
