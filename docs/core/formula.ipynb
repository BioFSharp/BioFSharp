{
 "cells": [
  {
   "cell_type": "markdown",
   "metadata": {},
   "source": [
    "---\n",
    "title: Formulas\n",
    "category: BioFSharp Core\n",
    "categoryindex: 1\n",
    "index: 1\n",
    "---"
   ]
  },
  {
   "cell_type": "code",
   "execution_count": null,
   "metadata": {
    "dotnet_interactive": {
     "language": "fsharp"
    },
    "polyglot_notebook": {
     "kernelName": "fsharp"
    }
   },
   "outputs": [],
   "source": [
    "(*** hide ***)\n",
    "\n",
    "(*** condition: prepare ***)\n",
    "#r \"nuget: Plotly.NET, 4.2.0\"\n",
    "#r \"nuget: FSharpAux, 2.0.0\"\n",
    "#r \"nuget: FSharpAux.IO, 2.0.0\"\n",
    "#r \"nuget: FSharp.Stats, 0.4.11\"\n",
    "#r \"../../src/BioFSharp/bin/Release/netstandard2.0/BioFSharp.dll\"\n",
    "#r \"../../src/BioFSharp.IO/bin/Release/netstandard2.0/BioFSharp.IO.dll\"\n",
    "#r \"../../src/BioFSharp.BioContainers/bin/Release/netstandard2.0/BioFSharp.BioContainers.dll\"\n",
    "#r \"../../src/BioFSharp.ML/bin/Release/netstandard2.0/BioFSharp.ML.dll\"\n",
    "#r \"../../src/BioFSharp.Stats/bin/Release/netstandard2.0/BioFSharp.Stats.dll\"\n",
    "\n",
    "// in the documentation, we have to register formatters manually because we cannot load the extension as nuget package to trigger automatic registration\n",
    "#r \"../../src/BioFSharp.Interactive/bin/Release/net6.0/BioFSharp.Interactive.dll\"\n",
    "BioFSharp.Interactive.Formatters.registerAll()"
   ]
  },
  {
   "cell_type": "markdown",
   "metadata": {},
   "source": [
    "# Formula\n",
    "\n",
    "*Summary:* This example shows how to use chemical formulas in BioFSharp\n",
    "\n",
    "BioFSharp offers a great bunch of functionality for working with molecules. All elements are represented as the composition of their stable isotopes. A `Formula` is a collection of those Elements with the given count. Creating and altering formulas is quite easy. Also functions for obtaining a mass of a molecule, which becomes quite handy especially for mass spectrometry, can be used straightforwardly.  \n",
    "\n",
    "To create formulas, no direct fiddling around with the data type is necessary. You can just use the stringparser:\n"
   ]
  },
  {
   "cell_type": "code",
   "execution_count": 2,
   "metadata": {
    "dotnet_interactive": {
     "language": "fsharp"
    },
    "polyglot_notebook": {
     "kernelName": "fsharp"
    }
   },
   "outputs": [
    {
     "data": {
      "text/plain": [
       "C1.00 O2.00"
      ]
     },
     "metadata": {},
     "output_type": "display_data"
    }
   ],
   "source": [
    "open BioFSharp\n",
    "\n",
    "let CO2 = Formula.parseFormulaString \"CO2\"\n",
    "Formula.toString CO2"
   ]
  },
  {
   "cell_type": "markdown",
   "metadata": {},
   "source": [
    "We just created some Carbon Dioxide. Luckily there is no in silico climate change. But let's get rid of it anyways, by making some _Sprudel_ (german term for sprinkly water)"
   ]
  },
  {
   "cell_type": "code",
   "execution_count": 3,
   "metadata": {
    "dotnet_interactive": {
     "language": "fsharp"
    },
    "polyglot_notebook": {
     "kernelName": "fsharp"
    }
   },
   "outputs": [
    {
     "data": {
      "text/plain": [
       "C1.00 H2.00 O3.00"
      ]
     },
     "metadata": {},
     "output_type": "display_data"
    }
   ],
   "source": [
    "let sprudel = Formula.add CO2 (Formula.Table.H2O)\n",
    "Formula.toString sprudel"
   ]
  },
  {
   "cell_type": "markdown",
   "metadata": {},
   "source": [
    "Quite refreshing, but boring nevertheless. Let's make some radioactive sprudel."
   ]
  },
  {
   "cell_type": "code",
   "execution_count": 4,
   "metadata": {
    "dotnet_interactive": {
     "language": "fsharp"
    },
    "polyglot_notebook": {
     "kernelName": "fsharp"
    }
   },
   "outputs": [],
   "source": [
    "/// create a monoisotopic carbon consisting only of C14\n",
    "let monoC14 = \n",
    "    Elements.createMono \"C14\" (Isotopes.Table.C14,1.)\n",
    "    |> Elements.Mono \n",
    "\n",
    "/// exchanges all carbon in formula with monoIsotopic C14\n",
    "let lableWithC14 molecule = Formula.replaceElement molecule Elements.Table.C monoC14\n",
    "\n",
    "let radioactiveSprudel = lableWithC14 sprudel"
   ]
  },
  {
   "cell_type": "markdown",
   "metadata": {},
   "source": [
    "As you can see converting a refreshing drink to a refreshing, radioactive drink is quickly done. As a check up, let's compare the masses:"
   ]
  },
  {
   "cell_type": "code",
   "execution_count": 5,
   "metadata": {
    "dotnet_interactive": {
     "language": "fsharp"
    },
    "polyglot_notebook": {
     "kernelName": "fsharp"
    }
   },
   "outputs": [
    {
     "data": {
      "text/html": [
       "<details open=\"open\" class=\"dni-treeview\"><summary><span class=\"dni-code-hint\"><code>(62.00039392114, 64.00363591054)</code></span></summary><div><table><thead><tr></tr></thead><tbody><tr><td>Item1</td><td><div class=\"dni-plaintext\"><pre>62.00039392114</pre></div></td></tr><tr><td>Item2</td><td><div class=\"dni-plaintext\"><pre>64.00363591054</pre></div></td></tr></tbody></table></div></details><style>\r\n",
       ".dni-code-hint {\r\n",
       "    font-style: italic;\r\n",
       "    overflow: hidden;\r\n",
       "    white-space: nowrap;\r\n",
       "}\r\n",
       ".dni-treeview {\r\n",
       "    white-space: nowrap;\r\n",
       "}\r\n",
       ".dni-treeview td {\r\n",
       "    vertical-align: top;\r\n",
       "    text-align: start;\r\n",
       "}\r\n",
       "details.dni-treeview {\r\n",
       "    padding-left: 1em;\r\n",
       "}\r\n",
       "table td {\r\n",
       "    text-align: start;\r\n",
       "}\r\n",
       "table tr { \r\n",
       "    vertical-align: top; \r\n",
       "    margin: 0em 0px;\r\n",
       "}\r\n",
       "table tr td pre \r\n",
       "{ \r\n",
       "    vertical-align: top !important; \r\n",
       "    margin: 0em 0px !important;\r\n",
       "} \r\n",
       "table th {\r\n",
       "    text-align: start;\r\n",
       "}\r\n",
       "</style>"
      ]
     },
     "metadata": {},
     "output_type": "display_data"
    }
   ],
   "source": [
    "Formula.monoisoMass sprudel,\n",
    "Formula.monoisoMass radioactiveSprudel\n"
   ]
  }
 ],
 "metadata": {
  "kernelspec": {
   "display_name": ".NET (F#)",
   "language": "F#",
   "name": ".net-fsharp"
  },
  "language_info": {
   "name": "polyglot-notebook"
  },
  "polyglot_notebook": {
   "kernelInfo": {
    "defaultKernelName": "fsharp",
    "items": [
     {
      "aliases": [],
      "languageName": "fsharp",
      "name": "fsharp"
     }
    ]
   }
  }
 },
 "nbformat": 4,
 "nbformat_minor": 2
}
