{
 "cells": [
  {
   "cell_type": "markdown",
   "metadata": {},
   "source": [
    "---\n",
    "title: Biocollections\n",
    "category: BioFSharp Core\n",
    "categoryindex: 1\n",
    "index: 3\n",
    "---"
   ]
  },
  {
   "cell_type": "code",
   "execution_count": 5,
   "metadata": {
    "dotnet_interactive": {
     "language": "fsharp"
    },
    "polyglot_notebook": {
     "kernelName": "fsharp"
    }
   },
   "outputs": [
    {
     "data": {
      "text/html": [
       "<div><div></div><div></div><div><strong>Installed Packages</strong><ul><li><span>FSharp.Stats, 0.4.11</span></li><li><span>FSharpAux, 2.0.0</span></li><li><span>FSharpAux.IO, 2.0.0</span></li><li><span>Plotly.NET, 4.2.0</span></li></ul></div></div>"
      ]
     },
     "metadata": {},
     "output_type": "display_data"
    }
   ],
   "source": [
    "(*** hide ***)\n",
    "\n",
    "(*** condition: prepare ***)\n",
    "#r \"nuget: Plotly.NET, 4.2.0\"\n",
    "#r \"nuget: FSharpAux, 2.0.0\"\n",
    "#r \"nuget: FSharpAux.IO, 2.0.0\"\n",
    "#r \"nuget: FSharp.Stats, 0.4.11\"\n",
    "#r \"../../src/BioFSharp/bin/Release/netstandard2.0/BioFSharp.dll\"\n",
    "#r \"../../src/BioFSharp.IO/bin/Release/netstandard2.0/BioFSharp.IO.dll\"\n",
    "#r \"../../src/BioFSharp.BioContainers/bin/Release/netstandard2.0/BioFSharp.BioContainers.dll\"\n",
    "#r \"../../src/BioFSharp.ML/bin/Release/netstandard2.0/BioFSharp.ML.dll\"\n",
    "#r \"../../src/BioFSharp.Stats/bin/Release/netstandard2.0/BioFSharp.Stats.dll\"\n",
    "\n",
    "// in the documentation, we have to register formatters manually because we cannot load the extension as nuget package to trigger automatic registration\n",
    "#r \"../../src/BioFSharp.Interactive/bin/Release/net6.0/BioFSharp.Interactive.dll\"\n",
    "BioFSharp.Interactive.Formatters.registerAll()"
   ]
  },
  {
   "cell_type": "markdown",
   "metadata": {},
   "source": [
    "# BioCollections\n",
    "\n",
    "*Summary:* This example shows how to use collections of biological items in BioFSharp\n",
    "\n",
    "Analogous to the build-in collections BioFSharp provides BioSeq, BioList and BioArray for individual collection specific optimized operations. \n",
    "The easiest way to create them are the `ofBioItemString` -functions"
   ]
  },
  {
   "cell_type": "code",
   "execution_count": 6,
   "metadata": {
    "dotnet_interactive": {
     "language": "fsharp"
    },
    "polyglot_notebook": {
     "kernelName": "fsharp"
    }
   },
   "outputs": [],
   "source": [
    "open BioFSharp\n",
    "\n",
    "let s1 = \"PEPTIDE\" |> BioSeq.ofAminoAcidString \n",
    "let s2 = \"PEPTIDE\" |> BioList.ofAminoAcidString \n",
    "let s3 = \"TAGCAT\"  |> BioArray.ofNucleotideString "
   ]
  },
  {
   "cell_type": "code",
   "execution_count": 10,
   "metadata": {
    "dotnet_interactive": {
     "language": "fsharp"
    },
    "polyglot_notebook": {
     "kernelName": "fsharp"
    }
   },
   "outputs": [
    {
     "data": {
      "text/html": [
       "<details open=\"open\" class=\"dni-treeview\"><summary><span class=\"dni-code-hint\"><code>(Microsoft.FSharp.Collections.IEnumerator+mkSeq@177[BioFSharp.AminoAcids+AminoAcid], [Pro; Glu; Pro; ... ], BioFSharp.Nucleotides+Nucleotide[])</code></span></summary><div><table><thead><tr></tr></thead><tbody><tr><td>Item1</td><td><pre>\r\n",
       "         1  PEPTIDE\r\n",
       "</pre></td></tr><tr><td>Item2</td><td><pre>\r\n",
       "         1  PEPTIDE\r\n",
       "</pre></td></tr><tr><td>Item3</td><td><pre>\r\n",
       "         1  TAGCAT\r\n",
       "</pre></td></tr></tbody></table></div></details><style>\r\n",
       ".dni-code-hint {\r\n",
       "    font-style: italic;\r\n",
       "    overflow: hidden;\r\n",
       "    white-space: nowrap;\r\n",
       "}\r\n",
       ".dni-treeview {\r\n",
       "    white-space: nowrap;\r\n",
       "}\r\n",
       ".dni-treeview td {\r\n",
       "    vertical-align: top;\r\n",
       "    text-align: start;\r\n",
       "}\r\n",
       "details.dni-treeview {\r\n",
       "    padding-left: 1em;\r\n",
       "}\r\n",
       "table td {\r\n",
       "    text-align: start;\r\n",
       "}\r\n",
       "table tr { \r\n",
       "    vertical-align: top; \r\n",
       "    margin: 0em 0px;\r\n",
       "}\r\n",
       "table tr td pre \r\n",
       "{ \r\n",
       "    vertical-align: top !important; \r\n",
       "    margin: 0em 0px !important;\r\n",
       "} \r\n",
       "table th {\r\n",
       "    text-align: start;\r\n",
       "}\r\n",
       "</style>"
      ]
     },
     "metadata": {},
     "output_type": "display_data"
    }
   ],
   "source": [
    "s1, s2, s3"
   ]
  },
  {
   "cell_type": "markdown",
   "metadata": {},
   "source": [
    "## Nucleotides\n",
    "\n",
    "![Nucleotides1](../img/Nucleotides.svg)\n",
    "\n",
    "**Figure 1: Selection of covered nucleotide operations** (A) Biological principle. (B) Workflow with `BioSeq`. (C) Other covered functionalities.\n",
    "\n",
    "Let's imagine you have a given gene sequence and want to find out what the according protein might look like."
   ]
  },
  {
   "cell_type": "code",
   "execution_count": 11,
   "metadata": {
    "dotnet_interactive": {
     "language": "fsharp"
    },
    "polyglot_notebook": {
     "kernelName": "fsharp"
    }
   },
   "outputs": [
    {
     "data": {
      "text/html": [
       "<pre>\r\n",
       "         1  ATGGCTAGAT CGATCGATCG GCTAACGTAA\r\n",
       "</pre>"
      ]
     },
     "metadata": {},
     "output_type": "display_data"
    }
   ],
   "source": [
    "let myGene = BioArray.ofNucleotideString \"ATGGCTAGATCGATCGATCGGCTAACGTAA\"\n",
    "\n",
    "myGene"
   ]
  },
  {
   "cell_type": "markdown",
   "metadata": {},
   "source": [
    "Yikes! Unfortunately we got the 5'-3' coding strand. For proper transcription we should get the complementary strand first:"
   ]
  },
  {
   "cell_type": "code",
   "execution_count": 12,
   "metadata": {
    "dotnet_interactive": {
     "language": "fsharp"
    },
    "polyglot_notebook": {
     "kernelName": "fsharp"
    }
   },
   "outputs": [
    {
     "data": {
      "text/html": [
       "<pre>\r\n",
       "         1  TACCGATCTA GCTAGCTAGC CGATTGCATT\r\n",
       "</pre>"
      ]
     },
     "metadata": {},
     "output_type": "display_data"
    }
   ],
   "source": [
    "let myProperGene = BioArray.complement myGene\n",
    "\n",
    "myProperGene"
   ]
  },
  {
   "cell_type": "markdown",
   "metadata": {},
   "source": [
    "Now let's transcribe and translate it:"
   ]
  },
  {
   "cell_type": "code",
   "execution_count": 16,
   "metadata": {
    "dotnet_interactive": {
     "language": "fsharp"
    },
    "polyglot_notebook": {
     "kernelName": "fsharp"
    }
   },
   "outputs": [
    {
     "data": {
      "text/html": [
       "<pre>\r\n",
       "         1  MARSIDRLT*\r\n",
       "</pre>"
      ]
     },
     "metadata": {},
     "output_type": "display_data"
    }
   ],
   "source": [
    "let myTranslatedGene = \n",
    "    myProperGene\n",
    "    |> BioArray.transcribeTemplateStrand\n",
    "    |> BioArray.translate 0\n",
    "\n",
    "myTranslatedGene"
   ]
  },
  {
   "cell_type": "markdown",
   "metadata": {},
   "source": [
    "Of course, if your input sequence originates from the coding strand, you can directly transcribe it to mRNA since the \n",
    "only difference between the coding strand and the mRNA is the replacement of 'T' by 'U' (Figure 1B)"
   ]
  },
  {
   "cell_type": "code",
   "execution_count": 14,
   "metadata": {
    "dotnet_interactive": {
     "language": "fsharp"
    },
    "polyglot_notebook": {
     "kernelName": "fsharp"
    }
   },
   "outputs": [
    {
     "data": {
      "text/html": [
       "<pre>\r\n",
       "         1  MARSIDRLT*\r\n",
       "</pre>"
      ]
     },
     "metadata": {},
     "output_type": "display_data"
    }
   ],
   "source": [
    "let myTranslatedGeneFromCodingStrand = \n",
    "    myGene\n",
    "    |> BioArray.transcribeCodingStrand\n",
    "    |> BioArray.translate 0\n",
    "\n",
    "myTranslatedGeneFromCodingStrand"
   ]
  },
  {
   "cell_type": "markdown",
   "metadata": {},
   "source": [
    "Other Nucleotide conversion operations are also covered:"
   ]
  },
  {
   "cell_type": "code",
   "execution_count": 17,
   "metadata": {
    "dotnet_interactive": {
     "language": "fsharp"
    },
    "polyglot_notebook": {
     "kernelName": "fsharp"
    }
   },
   "outputs": [
    {
     "data": {
      "text/html": [
       "<pre>\r\n",
       "         1  ATGTTCCGAT\r\n",
       "</pre>"
      ]
     },
     "metadata": {},
     "output_type": "display_data"
    }
   ],
   "source": [
    "let mySmallGene = BioSeq.ofNucleotideString  \"ATGTTCCGAT\"\n",
    "\n",
    "mySmallGene"
   ]
  },
  {
   "cell_type": "code",
   "execution_count": 18,
   "metadata": {
    "dotnet_interactive": {
     "language": "fsharp"
    },
    "polyglot_notebook": {
     "kernelName": "fsharp"
    }
   },
   "outputs": [
    {
     "data": {
      "text/html": [
       "<pre>\r\n",
       "         1  TAGCCTTGTA\r\n",
       "</pre>"
      ]
     },
     "metadata": {},
     "output_type": "display_data"
    }
   ],
   "source": [
    "BioSeq.reverse mySmallGene "
   ]
  },
  {
   "cell_type": "code",
   "execution_count": 19,
   "metadata": {
    "dotnet_interactive": {
     "language": "fsharp"
    },
    "polyglot_notebook": {
     "kernelName": "fsharp"
    }
   },
   "outputs": [
    {
     "data": {
      "text/html": [
       "<pre>\r\n",
       "         1  TACAAGGCTA\r\n",
       "</pre>"
      ]
     },
     "metadata": {},
     "output_type": "display_data"
    }
   ],
   "source": [
    "BioSeq.complement mySmallGene"
   ]
  },
  {
   "cell_type": "code",
   "execution_count": 20,
   "metadata": {
    "dotnet_interactive": {
     "language": "fsharp"
    },
    "polyglot_notebook": {
     "kernelName": "fsharp"
    }
   },
   "outputs": [
    {
     "data": {
      "text/html": [
       "<pre>\r\n",
       "         1  ATCGGAACAT\r\n",
       "</pre>"
      ]
     },
     "metadata": {},
     "output_type": "display_data"
    }
   ],
   "source": [
    "BioSeq.reverseComplement mySmallGene"
   ]
  },
  {
   "cell_type": "markdown",
   "metadata": {},
   "source": [
    "## AminoAcids\n",
    "\n",
    "### Basics\n",
    "Some functions which might be needed regularly are defined to work with nucleotides and amino acids:\n"
   ]
  },
  {
   "cell_type": "code",
   "execution_count": 22,
   "metadata": {
    "dotnet_interactive": {
     "language": "fsharp"
    },
    "polyglot_notebook": {
     "kernelName": "fsharp"
    }
   },
   "outputs": [
    {
     "data": {
      "text/html": [
       "<pre>\r\n",
       "         1  PEPTIDE\r\n",
       "</pre>"
      ]
     },
     "metadata": {},
     "output_type": "display_data"
    }
   ],
   "source": [
    "let myPeptide = \"PEPTIDE\" |> BioSeq.ofAminoAcidString \n",
    "\n",
    "myPeptide"
   ]
  },
  {
   "cell_type": "code",
   "execution_count": 25,
   "metadata": {
    "dotnet_interactive": {
     "language": "fsharp"
    },
    "polyglot_notebook": {
     "kernelName": "fsharp"
    }
   },
   "outputs": [
    {
     "data": {
      "text/plain": [
       "C34.00 H51.00 N7.00 O14.00"
      ]
     },
     "metadata": {},
     "output_type": "display_data"
    }
   ],
   "source": [
    "myPeptide \n",
    "|> BioSeq.toFormula \n",
    "|> Formula.toString "
   ]
  },
  {
   "cell_type": "code",
   "execution_count": 27,
   "metadata": {
    "dotnet_interactive": {
     "language": "fsharp"
    },
    "polyglot_notebook": {
     "kernelName": "fsharp"
    }
   },
   "outputs": [
    {
     "data": {
      "text/html": [
       "<div class=\"dni-plaintext\"><pre>781.8103169999999</pre></div><style>\r\n",
       ".dni-code-hint {\r\n",
       "    font-style: italic;\r\n",
       "    overflow: hidden;\r\n",
       "    white-space: nowrap;\r\n",
       "}\r\n",
       ".dni-treeview {\r\n",
       "    white-space: nowrap;\r\n",
       "}\r\n",
       ".dni-treeview td {\r\n",
       "    vertical-align: top;\r\n",
       "    text-align: start;\r\n",
       "}\r\n",
       "details.dni-treeview {\r\n",
       "    padding-left: 1em;\r\n",
       "}\r\n",
       "table td {\r\n",
       "    text-align: start;\r\n",
       "}\r\n",
       "table tr { \r\n",
       "    vertical-align: top; \r\n",
       "    margin: 0em 0px;\r\n",
       "}\r\n",
       "table tr td pre \r\n",
       "{ \r\n",
       "    vertical-align: top !important; \r\n",
       "    margin: 0em 0px !important;\r\n",
       "} \r\n",
       "table th {\r\n",
       "    text-align: start;\r\n",
       "}\r\n",
       "</style>"
      ]
     },
     "metadata": {},
     "output_type": "display_data"
    }
   ],
   "source": [
    "BioSeq.toAverageMass myPeptide "
   ]
  },
  {
   "cell_type": "markdown",
   "metadata": {},
   "source": [
    "### Digestion\n",
    "BioFSharp also comes equipped with a set of tools aimed at cutting apart amino acid sequences. To demonstrate the usage, we'll throw some `trypsin` at the small RuBisCO subunit of _Arabidopos thaliana_:  \n",
    "In the first step, we define our input sequence and the protease we want to use.\n"
   ]
  },
  {
   "cell_type": "code",
   "execution_count": 28,
   "metadata": {
    "dotnet_interactive": {
     "language": "fsharp"
    },
    "polyglot_notebook": {
     "kernelName": "fsharp"
    }
   },
   "outputs": [
    {
     "data": {
      "text/html": [
       "<pre>\r\n",
       "         1  MASSMLSSAT MVASPAQATM VAPFNGLKSS AAFPATRKAN NDITSITSNG GRVNCMQVWP\r\n",
       "        61  PIGKKKFETL SYLPDLTDSE LAKEVDYLIR NKWIPCVEFE LEHGFVYREH GNSPGYYDGR\r\n",
       "       121  YWTMWKLPLF GCTDSAQVLK EVEECKKEYP NAFIRIIGFD NTRQVQCISF IAYKPPSFT\r\n",
       "</pre>"
      ]
     },
     "metadata": {},
     "output_type": "display_data"
    }
   ],
   "source": [
    "let RBCS = \n",
    "    \"\"\"MASSMLSSATMVASPAQATMVAPFNGLKSSAAFPATRKANNDITSITSNGGRVNCMQVWP\n",
    "    PIGKKKFETLSYLPDLTDSELAKEVDYLIRNKWIPCVEFELEHGFVYREHGNSPGYYDGR\n",
    "    YWTMWKLPLFGCTDSAQVLKEVEECKKEYPNAFIRIIGFDNTRQVQCISFIAYKPPSFT\"\"\" \n",
    "    |> BioArray.ofAminoAcidString\n",
    "\n",
    "RBCS"
   ]
  },
  {
   "cell_type": "code",
   "execution_count": 30,
   "metadata": {
    "dotnet_interactive": {
     "language": "fsharp"
    },
    "polyglot_notebook": {
     "kernelName": "fsharp"
    }
   },
   "outputs": [
    {
     "data": {
      "text/html": [
       "<details open=\"open\" class=\"dni-treeview\"><summary><span class=\"dni-code-hint\"><code>{ ProteinID = 0\\n  MissCleavages = 0\\n  CleavageStart = 0\\n  CleavageEnd = 27\\n  PepSequence =\\n   [Met; Ala; Ser; Ser; Met; Leu; Ser; Ser; Ala; Thr; Met; Val; Ala; Ser; Pro;\\n    Ala; Gln; Ala; Thr; Met; Val; Ala; Pro; Phe; Asn; Gly; Leu; Lys] }</code></span></summary><div><table><thead><tr></tr></thead><tbody><tr><td>ProteinID</td><td><div class=\"dni-plaintext\"><pre>0</pre></div></td></tr><tr><td>MissCleavages</td><td><div class=\"dni-plaintext\"><pre>0</pre></div></td></tr><tr><td>CleavageStart</td><td><div class=\"dni-plaintext\"><pre>0</pre></div></td></tr><tr><td>CleavageEnd</td><td><div class=\"dni-plaintext\"><pre>27</pre></div></td></tr><tr><td>PepSequence</td><td><pre>\r\n",
       "         1  MASSMLSSAT MVASPAQATM VAPFNGLK\r\n",
       "</pre></td></tr></tbody></table></div></details><style>\r\n",
       ".dni-code-hint {\r\n",
       "    font-style: italic;\r\n",
       "    overflow: hidden;\r\n",
       "    white-space: nowrap;\r\n",
       "}\r\n",
       ".dni-treeview {\r\n",
       "    white-space: nowrap;\r\n",
       "}\r\n",
       ".dni-treeview td {\r\n",
       "    vertical-align: top;\r\n",
       "    text-align: start;\r\n",
       "}\r\n",
       "details.dni-treeview {\r\n",
       "    padding-left: 1em;\r\n",
       "}\r\n",
       "table td {\r\n",
       "    text-align: start;\r\n",
       "}\r\n",
       "table tr { \r\n",
       "    vertical-align: top; \r\n",
       "    margin: 0em 0px;\r\n",
       "}\r\n",
       "table tr td pre \r\n",
       "{ \r\n",
       "    vertical-align: top !important; \r\n",
       "    margin: 0em 0px !important;\r\n",
       "} \r\n",
       "table th {\r\n",
       "    text-align: start;\r\n",
       "}\r\n",
       "</style>"
      ]
     },
     "metadata": {},
     "output_type": "display_data"
    }
   ],
   "source": [
    "let trypsin = Digestion.Table.getProteaseBy \"Trypsin\"\n",
    "\n",
    "let digestedRBCS = Digestion.BioArray.digest trypsin 0 RBCS \n",
    "\n",
    "digestedRBCS\n",
    "|> Seq.head"
   ]
  },
  {
   "cell_type": "markdown",
   "metadata": {},
   "source": [
    "In reality, proteases don't always completely cut the protein down. Instead, some sites stay intact and should be considered for in silico analysis. \n",
    "This can easily be done with the `concernMissCleavages` function. It takes the minimum and maximum amount of misscleavages you want to have and also the digested protein. As a result you get all possible combinations arising from this information.\n"
   ]
  },
  {
   "cell_type": "code",
   "execution_count": 31,
   "metadata": {
    "dotnet_interactive": {
     "language": "fsharp"
    },
    "polyglot_notebook": {
     "kernelName": "fsharp"
    }
   },
   "outputs": [
    {
     "data": {
      "text/html": [
       "<details open=\"open\" class=\"dni-treeview\"><summary><span class=\"dni-code-hint\"><code>{ ProteinID = 0\\n  MissCleavages = 0\\n  CleavageStart = 28\\n  CleavageEnd = 36\\n  PepSequence = [Ser; Ser; Ala; Ala; Phe; Pro; Ala; Thr; Arg] }</code></span></summary><div><table><thead><tr></tr></thead><tbody><tr><td>ProteinID</td><td><div class=\"dni-plaintext\"><pre>0</pre></div></td></tr><tr><td>MissCleavages</td><td><div class=\"dni-plaintext\"><pre>0</pre></div></td></tr><tr><td>CleavageStart</td><td><div class=\"dni-plaintext\"><pre>28</pre></div></td></tr><tr><td>CleavageEnd</td><td><div class=\"dni-plaintext\"><pre>36</pre></div></td></tr><tr><td>PepSequence</td><td><pre>\r\n",
       "         1  SSAAFPATR\r\n",
       "</pre></td></tr></tbody></table></div></details><style>\r\n",
       ".dni-code-hint {\r\n",
       "    font-style: italic;\r\n",
       "    overflow: hidden;\r\n",
       "    white-space: nowrap;\r\n",
       "}\r\n",
       ".dni-treeview {\r\n",
       "    white-space: nowrap;\r\n",
       "}\r\n",
       ".dni-treeview td {\r\n",
       "    vertical-align: top;\r\n",
       "    text-align: start;\r\n",
       "}\r\n",
       "details.dni-treeview {\r\n",
       "    padding-left: 1em;\r\n",
       "}\r\n",
       "table td {\r\n",
       "    text-align: start;\r\n",
       "}\r\n",
       "table tr { \r\n",
       "    vertical-align: top; \r\n",
       "    margin: 0em 0px;\r\n",
       "}\r\n",
       "table tr td pre \r\n",
       "{ \r\n",
       "    vertical-align: top !important; \r\n",
       "    margin: 0em 0px !important;\r\n",
       "} \r\n",
       "table th {\r\n",
       "    text-align: start;\r\n",
       "}\r\n",
       "</style>"
      ]
     },
     "metadata": {},
     "output_type": "display_data"
    }
   ],
   "source": [
    "let digestedRBCS' = Digestion.BioArray.concernMissCleavages 0 2 digestedRBCS\n",
    "\n",
    "digestedRBCS\n",
    "|> Seq.item 1"
   ]
  }
 ],
 "metadata": {
  "kernelspec": {
   "display_name": ".NET (C#)",
   "language": "C#",
   "name": ".net-csharp"
  },
  "language_info": {
   "name": "polyglot-notebook"
  },
  "polyglot_notebook": {
   "kernelInfo": {
    "defaultKernelName": "csharp",
    "items": [
     {
      "aliases": [],
      "name": "csharp"
     },
     {
      "aliases": [],
      "languageName": "fsharp",
      "name": "fsharp"
     }
    ]
   }
  }
 },
 "nbformat": 4,
 "nbformat_minor": 2
}
